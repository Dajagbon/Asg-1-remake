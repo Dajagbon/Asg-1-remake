{
 "cells": [
  {
   "cell_type": "code",
   "execution_count": 23,
   "id": "b422e212-fe6f-4418-8b74-87a1db5468c4",
   "metadata": {},
   "outputs": [
    {
     "name": "stdin",
     "output_type": "stream",
     "text": [
      "input tendered:  100\n",
      "input cost:  36.57\n"
     ]
    },
    {
     "name": "stdout",
     "output_type": "stream",
     "text": [
      "63.43\n",
      "63.43\n",
      "13.43\n",
      "3.4299999999999997\n",
      "3.4299999999999997\n",
      "3.4299999999999997\n",
      "0.4299999999999997\n",
      "0.009999999999999731\n",
      "0.009999999999999731\n",
      "0.009999999999999731\n",
      "0.009999999999999731\n",
      "0.0 1.0 1.0 0.0 0.0 3.0 42.0 0.0 0.0 0.0\n"
     ]
    }
   ],
   "source": [
    "#Write a program that will determine the amount of change needed and the minimum amount of each of the dollar denominations and coins needed for the transaction.\n",
    "tendered = float(input(\"input tendered: \"))\n",
    "cost = float(input(\"input cost: \"))\n",
    "change = tendered - cost\n",
    "print(change)\n",
    "\n",
    "penny = 0.01\n",
    "quarter = 0.25\n",
    "dime = 0.10\n",
    "nickel = 0.05\n",
    "hundred = 100\n",
    "fifty = 50\n",
    "ten = 10\n",
    "twenty = 20\n",
    "five = 5\n",
    "one = 1\n",
    "\n",
    "num1 = change//hundred\n",
    "change = change - (num1 * 100)\n",
    "print(change)\n",
    "\n",
    "num2 = change//fifty\n",
    "change = change - (num2 * 50)\n",
    "print(change)\n",
    "\n",
    "num3 = change//ten\n",
    "change = change - (num3 * 10)\n",
    "print(change)\n",
    "\n",
    "num4 = change//twenty\n",
    "change = change - (num4 * 20)\n",
    "print(change)\n",
    "\n",
    "num5 = change//five\n",
    "change = change - (num5 * 5)\n",
    "print(change)\n",
    "\n",
    "num6 = change//one\n",
    "change = change - (num6 * 1)\n",
    "print(change)\n",
    "\n",
    "num7 = change//penny\n",
    "change = change - (num7 * .01)\n",
    "print(change)\n",
    "\n",
    "num8 = change//quarter\n",
    "change = change - (num8 * .25)\n",
    "print(change)\n",
    "\n",
    "num9 = change//dime\n",
    "change = change - (num9 * .10)\n",
    "print(change)\n",
    "\n",
    "num10 = change//nickel\n",
    "change = change - (num10 * .05)\n",
    "print(change)\n",
    "\n",
    "print(num1,num2,num3,num4,num5,num6,num7,num8,num9,num10)"
   ]
  },
  {
   "cell_type": "code",
   "execution_count": 25,
   "id": "911a72a6-4db0-4963-8e59-8f126020fa92",
   "metadata": {},
   "outputs": [
    {
     "name": "stdin",
     "output_type": "stream",
     "text": [
      "input tendered:  80\n",
      "input cost:  64.09\n"
     ]
    },
    {
     "name": "stdout",
     "output_type": "stream",
     "text": [
      "15.909999999999997\n",
      "15.909999999999997\n",
      "15.909999999999997\n",
      "5.909999999999997\n",
      "5.909999999999997\n",
      "0.9099999999999966\n",
      "0.9099999999999966\n",
      "0.009999999999996567\n",
      "0.009999999999996567\n",
      "0.009999999999996567\n",
      "0.009999999999996567\n",
      "0.0 0.0 1.0 0.0 1.0 0.0 90.0 0.0 0.0 0.0\n"
     ]
    }
   ],
   "source": [
    "#Write a program that will determine the amount of change needed and the minimum amount of each of the dollar denominations and coins needed for the transaction.\n",
    "tendered = float(input(\"input tendered: \"))\n",
    "cost = float(input(\"input cost: \"))\n",
    "change = tendered - cost\n",
    "print(change)\n",
    "\n",
    "penny = 0.01\n",
    "quarter = 0.25\n",
    "dime = 0.10\n",
    "nickel = 0.05\n",
    "hundred = 100\n",
    "fifty = 50\n",
    "ten = 10\n",
    "twenty = 20\n",
    "five = 5\n",
    "one = 1\n",
    "\n",
    "num1 = change//hundred\n",
    "change = change - (num1 * 100)\n",
    "print(change)\n",
    "\n",
    "num2 = change//fifty\n",
    "change = change - (num2 * 50)\n",
    "print(change)\n",
    "\n",
    "num3 = change//ten\n",
    "change = change - (num3 * 10)\n",
    "print(change)\n",
    "\n",
    "num4 = change//twenty\n",
    "change = change - (num4 * 20)\n",
    "print(change)\n",
    "\n",
    "num5 = change//five\n",
    "change = change - (num5 * 5)\n",
    "print(change)\n",
    "\n",
    "num6 = change//one\n",
    "change = change - (num6 * 1)\n",
    "print(change)\n",
    "\n",
    "num7 = change//penny\n",
    "change = change - (num7 * .01)\n",
    "print(change)\n",
    "\n",
    "num8 = change//quarter\n",
    "change = change - (num8 * .25)\n",
    "print(change)\n",
    "\n",
    "num9 = change//dime\n",
    "change = change - (num9 * .10)\n",
    "print(change)\n",
    "\n",
    "num10 = change//nickel\n",
    "change = change - (num10 * .05)\n",
    "print(change)\n",
    "\n",
    "print(num1,num2,num3,num4,num5,num6,num7,num8,num9,num10)"
   ]
  },
  {
   "cell_type": "code",
   "execution_count": 29,
   "id": "53ad3a7e-275e-4191-afa4-56655228268f",
   "metadata": {},
   "outputs": [
    {
     "name": "stdin",
     "output_type": "stream",
     "text": [
      "input tendered:  10\n",
      "input cost:  3.81\n"
     ]
    },
    {
     "name": "stdout",
     "output_type": "stream",
     "text": [
      "6.1899999999999995\n",
      "6.1899999999999995\n",
      "6.1899999999999995\n",
      "6.1899999999999995\n",
      "6.1899999999999995\n",
      "1.1899999999999995\n",
      "0.1899999999999995\n",
      "0.00999999999999951\n",
      "0.00999999999999951\n",
      "0.00999999999999951\n",
      "0.00999999999999951\n",
      "0.0 0.0 0.0 0.0 1.0 1.0 18.0 0.0 0.0 0.0\n"
     ]
    }
   ],
   "source": [
    "#Write a program that will determine the amount of change needed and the minimum amount of each of the dollar denominations and coins needed for the transaction.\n",
    "tendered = float(input(\"input tendered: \"))\n",
    "cost = float(input(\"input cost: \"))\n",
    "change = tendered - cost\n",
    "print(change)\n",
    "\n",
    "penny = 0.01\n",
    "quarter = 0.25\n",
    "dime = 0.10\n",
    "nickel = 0.05\n",
    "hundred = 100\n",
    "fifty = 50\n",
    "ten = 10\n",
    "twenty = 20\n",
    "five = 5\n",
    "one = 1\n",
    "\n",
    "num1 = change//hundred\n",
    "change = change - (num1 * 100)\n",
    "print(change)\n",
    "\n",
    "num2 = change//fifty\n",
    "change = change - (num2 * 50)\n",
    "print(change)\n",
    "\n",
    "num3 = change//ten\n",
    "change = change - (num3 * 10)\n",
    "print(change)\n",
    "\n",
    "num4 = change//twenty\n",
    "change = change - (num4 * 20)\n",
    "print(change)\n",
    "\n",
    "num5 = change//five\n",
    "change = change - (num5 * 5)\n",
    "print(change)\n",
    "\n",
    "num6 = change//one\n",
    "change = change - (num6 * 1)\n",
    "print(change)\n",
    "\n",
    "num7 = change//penny\n",
    "change = change - (num7 * .01)\n",
    "print(change)\n",
    "\n",
    "num8 = change//quarter\n",
    "change = change - (num8 * .25)\n",
    "print(change)\n",
    "\n",
    "num9 = change//dime\n",
    "change = change - (num9 * .10)\n",
    "print(change)\n",
    "\n",
    "num10 = change//nickel\n",
    "change = change - (num10 * .05)\n",
    "print(change)\n",
    "\n",
    "print(num1,num2,num3,num4,num5,num6,num7,num8,num9,num10)"
   ]
  },
  {
   "cell_type": "code",
   "execution_count": 28,
   "id": "1106805b-feaa-449d-a7d3-68bed1b121ac",
   "metadata": {},
   "outputs": [
    {
     "name": "stdin",
     "output_type": "stream",
     "text": [
      "input tendered:  50\n",
      "input cost:  14.36\n"
     ]
    },
    {
     "name": "stdout",
     "output_type": "stream",
     "text": [
      "35.64\n",
      "35.64\n",
      "35.64\n",
      "5.640000000000001\n",
      "5.640000000000001\n",
      "0.6400000000000006\n",
      "0.6400000000000006\n",
      "5.551115123125783e-16\n",
      "5.551115123125783e-16\n",
      "5.551115123125783e-16\n",
      "5.551115123125783e-16\n",
      "0.0 0.0 3.0 0.0 1.0 0.0 64.0 0.0 0.0 0.0\n"
     ]
    }
   ],
   "source": [
    "#Write a program that will determine the amount of change needed and the minimum amount of each of the dollar denominations and coins needed for the transaction.\n",
    "tendered = float(input(\"input tendered: \"))\n",
    "cost = float(input(\"input cost: \"))\n",
    "change = tendered - cost\n",
    "print(change)\n",
    "\n",
    "penny = 0.01\n",
    "quarter = 0.25\n",
    "dime = 0.10\n",
    "nickel = 0.05\n",
    "hundred = 100\n",
    "fifty = 50\n",
    "ten = 10\n",
    "twenty = 20\n",
    "five = 5\n",
    "one = 1\n",
    "\n",
    "num1 = change//hundred\n",
    "change = change - (num1 * 100)\n",
    "print(change)\n",
    "\n",
    "num2 = change//fifty\n",
    "change = change - (num2 * 50)\n",
    "print(change)\n",
    "\n",
    "num3 = change//ten\n",
    "change = change - (num3 * 10)\n",
    "print(change)\n",
    "\n",
    "num4 = change//twenty\n",
    "change = change - (num4 * 20)\n",
    "print(change)\n",
    "\n",
    "num5 = change//five\n",
    "change = change - (num5 * 5)\n",
    "print(change)\n",
    "\n",
    "num6 = change//one\n",
    "change = change - (num6 * 1)\n",
    "print(change)\n",
    "\n",
    "num7 = change//penny\n",
    "change = change - (num7 * .01)\n",
    "print(change)\n",
    "\n",
    "num8 = change//quarter\n",
    "change = change - (num8 * .25)\n",
    "print(change)\n",
    "\n",
    "num9 = change//dime\n",
    "change = change - (num9 * .10)\n",
    "print(change)\n",
    "\n",
    "num10 = change//nickel\n",
    "change = change - (num10 * .05)\n",
    "print(change)\n",
    "\n",
    "print(num1,num2,num3,num4,num5,num6,num7,num8,num9,num10)"
   ]
  },
  {
   "cell_type": "code",
   "execution_count": 16,
   "id": "1e8823bb-54a4-4954-854e-f286b7666d6a",
   "metadata": {},
   "outputs": [
    {
     "name": "stdout",
     "output_type": "stream",
     "text": [
      "37.0\n"
     ]
    }
   ],
   "source": [
    "#Write a program that will calculate the temperature for the given scale.\n",
    "Fahren = 98.6\n",
    "c = (5/9)*(Fahren - 32)\n",
    "print(c)"
   ]
  },
  {
   "cell_type": "code",
   "execution_count": 22,
   "id": "7a0f11ca-81dc-402c-bace-8100c622b657",
   "metadata": {},
   "outputs": [
    {
     "name": "stdout",
     "output_type": "stream",
     "text": [
      "212.1\n"
     ]
    }
   ],
   "source": [
    "#Write a program that will calculate the temperature for the given scale.\n",
    "Celsius = -60.9\n",
    "K = Celsius + 273\n",
    "print(K)"
   ]
  },
  {
   "cell_type": "code",
   "execution_count": 21,
   "id": "ecf18fb2-a250-46ad-8e6e-d9ac5ef394e6",
   "metadata": {},
   "outputs": [
    {
     "name": "stdout",
     "output_type": "stream",
     "text": [
      "134.06\n"
     ]
    }
   ],
   "source": [
    "#Write a program that will calculate the temperature for the given scale.\n",
    "K = 329.7\n",
    "F = (9/5)*(K - 273) + 32\n",
    "print(F)"
   ]
  },
  {
   "cell_type": "code",
   "execution_count": null,
   "id": "03755bc9-6339-4be6-8bbb-fd604e23b1fe",
   "metadata": {},
   "outputs": [],
   "source": []
  }
 ],
 "metadata": {
  "kernelspec": {
   "display_name": "Python 3 (ipykernel)",
   "language": "python",
   "name": "python3"
  },
  "language_info": {
   "codemirror_mode": {
    "name": "ipython",
    "version": 3
   },
   "file_extension": ".py",
   "mimetype": "text/x-python",
   "name": "python",
   "nbconvert_exporter": "python",
   "pygments_lexer": "ipython3",
   "version": "3.11.5"
  }
 },
 "nbformat": 4,
 "nbformat_minor": 5
}
